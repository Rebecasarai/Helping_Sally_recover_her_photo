{
 "cells": [
  {
   "cell_type": "markdown",
   "metadata": {},
   "source": [
    "# Final exercise: Help Sally restore her graduation photo (Solution)\n",
    "You're going to use all the knowledge adquired during the course to complete a final challenge: reconstruct a very damaged photo.\n",
    "\n",
    "Help Sally restore her favorite portrait which was damaged with noise, distorsion and missing information due to a breach in her laptop. \n",
    "\n",
    "You will be fixing these problems by transforming the images to be upright, applying noise reduction and reconstructing the damaged parts. \n",
    "\n",
    "And at the end, you will apply face detection on the resulting image to make sure the face of Sally is there.\n",
    "\n"
   ]
  },
  {
   "cell_type": "code",
   "execution_count": null,
   "metadata": {},
   "outputs": [],
   "source": []
  }
 ],
 "metadata": {
  "kernelspec": {
   "display_name": "Python 3",
   "language": "python",
   "name": "python3"
  },
  "language_info": {
   "codemirror_mode": {
    "name": "ipython",
    "version": 3
   },
   "file_extension": ".py",
   "mimetype": "text/x-python",
   "name": "python",
   "nbconvert_exporter": "python",
   "pygments_lexer": "ipython3",
   "version": "3.7.0"
  }
 },
 "nbformat": 4,
 "nbformat_minor": 2
}
